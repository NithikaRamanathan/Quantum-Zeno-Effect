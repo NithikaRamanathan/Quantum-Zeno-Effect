{
  "cells": [
    {
      "cell_type": "markdown",
      "metadata": {
        "id": "view-in-github",
        "colab_type": "text"
      },
      "source": [
        "<a href=\"https://colab.research.google.com/github/NithikaRamanathan/Quantum-Zeno-Effect/blob/main/ApplicationsofMediumArticle.ipynb\" target=\"_parent\"><img src=\"https://colab.research.google.com/assets/colab-badge.svg\" alt=\"Open In Colab\"/></a>"
      ]
    },
    {
      "cell_type": "markdown",
      "metadata": {
        "id": "9xOV10TuyrBF"
      },
      "source": []
    },
    {
      "cell_type": "code",
      "execution_count": null,
      "metadata": {
        "colab": {
          "base_uri": "https://localhost:8080/"
        },
        "id": "44BGUKS7OWRV",
        "outputId": "b1781774-ba68-465c-b5f5-3385248042f6"
      },
      "outputs": [
        {
          "output_type": "stream",
          "name": "stdout",
          "text": [
            "Requirement already satisfied: scipy in /usr/local/lib/python3.10/dist-packages (1.13.1)\n",
            "Requirement already satisfied: numpy<2.3,>=1.22.4 in /usr/local/lib/python3.10/dist-packages (from scipy) (1.26.4)\n"
          ]
        }
      ],
      "source": [
        "pip install scipy"
      ]
    },
    {
      "cell_type": "code",
      "execution_count": null,
      "metadata": {
        "id": "FIYwQ5JgsRgF",
        "colab": {
          "base_uri": "https://localhost:8080/"
        },
        "outputId": "5e53c52b-ff69-43b8-83fa-ca325f04690b"
      },
      "outputs": [
        {
          "output_type": "stream",
          "name": "stdout",
          "text": [
            "Requirement already satisfied: qiskit in /usr/local/lib/python3.10/dist-packages (1.2.4)\n",
            "Requirement already satisfied: rustworkx>=0.15.0 in /usr/local/lib/python3.10/dist-packages (from qiskit) (0.15.1)\n",
            "Requirement already satisfied: numpy<3,>=1.17 in /usr/local/lib/python3.10/dist-packages (from qiskit) (1.26.4)\n",
            "Requirement already satisfied: scipy>=1.5 in /usr/local/lib/python3.10/dist-packages (from qiskit) (1.13.1)\n",
            "Requirement already satisfied: sympy>=1.3 in /usr/local/lib/python3.10/dist-packages (from qiskit) (1.13.3)\n",
            "Requirement already satisfied: dill>=0.3 in /usr/local/lib/python3.10/dist-packages (from qiskit) (0.3.9)\n",
            "Requirement already satisfied: python-dateutil>=2.8.0 in /usr/local/lib/python3.10/dist-packages (from qiskit) (2.8.2)\n",
            "Requirement already satisfied: stevedore>=3.0.0 in /usr/local/lib/python3.10/dist-packages (from qiskit) (5.3.0)\n",
            "Requirement already satisfied: typing-extensions in /usr/local/lib/python3.10/dist-packages (from qiskit) (4.12.2)\n",
            "Requirement already satisfied: symengine<0.14,>=0.11 in /usr/local/lib/python3.10/dist-packages (from qiskit) (0.13.0)\n",
            "Requirement already satisfied: six>=1.5 in /usr/local/lib/python3.10/dist-packages (from python-dateutil>=2.8.0->qiskit) (1.16.0)\n",
            "Requirement already satisfied: pbr>=2.0.0 in /usr/local/lib/python3.10/dist-packages (from stevedore>=3.0.0->qiskit) (6.1.0)\n",
            "Requirement already satisfied: mpmath<1.4,>=1.1.0 in /usr/local/lib/python3.10/dist-packages (from sympy>=1.3->qiskit) (1.3.0)\n"
          ]
        }
      ],
      "source": [
        "pip install qiskit"
      ]
    },
    {
      "cell_type": "code",
      "execution_count": null,
      "metadata": {
        "id": "0qcP-XypyrM6",
        "colab": {
          "base_uri": "https://localhost:8080/"
        },
        "outputId": "8f982d37-63dc-4cdc-8414-cba7525c501a"
      },
      "outputs": [
        {
          "output_type": "stream",
          "name": "stdout",
          "text": [
            "Requirement already satisfied: pylatexenc in /usr/local/lib/python3.10/dist-packages (2.10)\n"
          ]
        }
      ],
      "source": [
        "pip install pylatexenc"
      ]
    },
    {
      "cell_type": "code",
      "execution_count": null,
      "metadata": {
        "id": "50y83IDqq6yK"
      },
      "outputs": [],
      "source": [
        "import matplotlib.pyplot as plt\n",
        "import qiskit\n",
        "from qiskit import QuantumCircuit, assemble\n",
        "import numpy as np\n",
        "from qiskit.circuit import QuantumRegister, ClassicalRegister\n",
        "from qiskit.circuit.library import RXGate\n",
        "from qiskit.circuit.library import UGate\n",
        "from qiskit.circuit.library import CXGate\n",
        "from scipy.interpolate import interp1d"
      ]
    },
    {
      "cell_type": "code",
      "execution_count": null,
      "metadata": {
        "id": "lzzZnjzrtxPD",
        "colab": {
          "base_uri": "https://localhost:8080/"
        },
        "outputId": "7093a798-8e1c-46a4-912d-c31ef6c43bba"
      },
      "outputs": [
        {
          "output_type": "stream",
          "name": "stdout",
          "text": [
            "Requirement already satisfied: qiskit in /usr/local/lib/python3.10/dist-packages (1.2.4)\n",
            "Requirement already satisfied: qiskit-aer in /usr/local/lib/python3.10/dist-packages (0.15.1)\n",
            "Requirement already satisfied: rustworkx>=0.15.0 in /usr/local/lib/python3.10/dist-packages (from qiskit) (0.15.1)\n",
            "Requirement already satisfied: numpy<3,>=1.17 in /usr/local/lib/python3.10/dist-packages (from qiskit) (1.26.4)\n",
            "Requirement already satisfied: scipy>=1.5 in /usr/local/lib/python3.10/dist-packages (from qiskit) (1.13.1)\n",
            "Requirement already satisfied: sympy>=1.3 in /usr/local/lib/python3.10/dist-packages (from qiskit) (1.13.3)\n",
            "Requirement already satisfied: dill>=0.3 in /usr/local/lib/python3.10/dist-packages (from qiskit) (0.3.9)\n",
            "Requirement already satisfied: python-dateutil>=2.8.0 in /usr/local/lib/python3.10/dist-packages (from qiskit) (2.8.2)\n",
            "Requirement already satisfied: stevedore>=3.0.0 in /usr/local/lib/python3.10/dist-packages (from qiskit) (5.3.0)\n",
            "Requirement already satisfied: typing-extensions in /usr/local/lib/python3.10/dist-packages (from qiskit) (4.12.2)\n",
            "Requirement already satisfied: symengine<0.14,>=0.11 in /usr/local/lib/python3.10/dist-packages (from qiskit) (0.13.0)\n",
            "Requirement already satisfied: psutil>=5 in /usr/local/lib/python3.10/dist-packages (from qiskit-aer) (5.9.5)\n",
            "Requirement already satisfied: six>=1.5 in /usr/local/lib/python3.10/dist-packages (from python-dateutil>=2.8.0->qiskit) (1.16.0)\n",
            "Requirement already satisfied: pbr>=2.0.0 in /usr/local/lib/python3.10/dist-packages (from stevedore>=3.0.0->qiskit) (6.1.0)\n",
            "Requirement already satisfied: mpmath<1.4,>=1.1.0 in /usr/local/lib/python3.10/dist-packages (from sympy>=1.3->qiskit) (1.3.0)\n"
          ]
        }
      ],
      "source": [
        "pip install qiskit qiskit-aer"
      ]
    },
    {
      "cell_type": "code",
      "execution_count": null,
      "metadata": {
        "id": "8i4D8slQtUiI"
      },
      "outputs": [],
      "source": [
        "from qiskit_aer import Aer\n",
        "sim = Aer.get_backend('aer_simulator')"
      ]
    },
    {
      "cell_type": "code",
      "execution_count": null,
      "metadata": {
        "id": "KnIicbhGrdzG"
      },
      "outputs": [],
      "source": [
        "import numpy as np"
      ]
    },
    {
      "cell_type": "code",
      "execution_count": null,
      "metadata": {
        "id": "05E3H6bYxxxw",
        "colab": {
          "base_uri": "https://localhost:8080/",
          "height": 1000
        },
        "outputId": "0e769658-0b0c-4e41-fc75-052cf167bd8f"
      },
      "outputs": [
        {
          "output_type": "execute_result",
          "data": {
            "text/plain": [
              "      ┌────────────┐     ┌────────────┐     ┌────────────┐     ┌────────────┐»\n",
              " q_0: ┤ U(π/4,0,0) ├──■──┤ U(π/4,0,0) ├──■──┤ U(π/4,0,0) ├──■──┤ U(π/4,0,0) ├»\n",
              "      └────────────┘┌─┴─┐└────────────┘  │  └────────────┘  │  └────────────┘»\n",
              " q_1: ──────────────┤ X ├────────────────┼──────────────────┼────────────────»\n",
              "                    └───┘              ┌─┴─┐                │                »\n",
              " q_2: ─────────────────────────────────┤ X ├────────────────┼────────────────»\n",
              "                                       └───┘              ┌─┴─┐              »\n",
              " q_3: ────────────────────────────────────────────────────┤ X ├──────────────»\n",
              "                                                          └───┘              »\n",
              " q_4: ───────────────────────────────────────────────────────────────────────»\n",
              "                                                                             »\n",
              " q_5: ───────────────────────────────────────────────────────────────────────»\n",
              "                                                                             »\n",
              " q_6: ───────────────────────────────────────────────────────────────────────»\n",
              "                                                                             »\n",
              " q_7: ───────────────────────────────────────────────────────────────────────»\n",
              "                                                                             »\n",
              " q_8: ───────────────────────────────────────────────────────────────────────»\n",
              "                                                                             »\n",
              " q_9: ───────────────────────────────────────────────────────────────────────»\n",
              "                                                                             »\n",
              "q_10: ───────────────────────────────────────────────────────────────────────»\n",
              "                                                                             »\n",
              "q_11: ───────────────────────────────────────────────────────────────────────»\n",
              "                                                                             »\n",
              "q_12: ───────────────────────────────────────────────────────────────────────»\n",
              "                                                                             »\n",
              "q_13: ───────────────────────────────────────────────────────────────────────»\n",
              "                                                                             »\n",
              "q_14: ───────────────────────────────────────────────────────────────────────»\n",
              "                                                                             »\n",
              "q_15: ───────────────────────────────────────────────────────────────────────»\n",
              "                                                                             »\n",
              "q_16: ───────────────────────────────────────────────────────────────────────»\n",
              "                                                                             »\n",
              "q_17: ───────────────────────────────────────────────────────────────────────»\n",
              "                                                                             »\n",
              "q_18: ───────────────────────────────────────────────────────────────────────»\n",
              "                                                                             »\n",
              "q_19: ───────────────────────────────────────────────────────────────────────»\n",
              "                                                                             »\n",
              "c: 19/═══════════════════════════════════════════════════════════════════════»\n",
              "                                                                             »\n",
              "«           ┌─┐\n",
              "« q_0: ──■──┤M├\n",
              "«        │  └╥┘\n",
              "« q_1: ──┼───╫─\n",
              "«        │   ║ \n",
              "« q_2: ──┼───╫─\n",
              "«        │   ║ \n",
              "« q_3: ──┼───╫─\n",
              "«      ┌─┴─┐ ║ \n",
              "« q_4: ┤ X ├─╫─\n",
              "«      └───┘ ║ \n",
              "« q_5: ──────╫─\n",
              "«            ║ \n",
              "« q_6: ──────╫─\n",
              "«            ║ \n",
              "« q_7: ──────╫─\n",
              "«            ║ \n",
              "« q_8: ──────╫─\n",
              "«            ║ \n",
              "« q_9: ──────╫─\n",
              "«            ║ \n",
              "«q_10: ──────╫─\n",
              "«            ║ \n",
              "«q_11: ──────╫─\n",
              "«            ║ \n",
              "«q_12: ──────╫─\n",
              "«            ║ \n",
              "«q_13: ──────╫─\n",
              "«            ║ \n",
              "«q_14: ──────╫─\n",
              "«            ║ \n",
              "«q_15: ──────╫─\n",
              "«            ║ \n",
              "«q_16: ──────╫─\n",
              "«            ║ \n",
              "«q_17: ──────╫─\n",
              "«            ║ \n",
              "«q_18: ──────╫─\n",
              "«            ║ \n",
              "«q_19: ──────╫─\n",
              "«            ║ \n",
              "«c: 19/══════╩═\n",
              "«            0 "
            ],
            "text/html": [
              "<pre style=\"word-wrap: normal;white-space: pre;background: #fff0;line-height: 1.1;font-family: &quot;Courier New&quot;,Courier,monospace\">      ┌────────────┐     ┌────────────┐     ┌────────────┐     ┌────────────┐»\n",
              " q_0: ┤ U(π/4,0,0) ├──■──┤ U(π/4,0,0) ├──■──┤ U(π/4,0,0) ├──■──┤ U(π/4,0,0) ├»\n",
              "      └────────────┘┌─┴─┐└────────────┘  │  └────────────┘  │  └────────────┘»\n",
              " q_1: ──────────────┤ X ├────────────────┼──────────────────┼────────────────»\n",
              "                    └───┘              ┌─┴─┐                │                »\n",
              " q_2: ─────────────────────────────────┤ X ├────────────────┼────────────────»\n",
              "                                       └───┘              ┌─┴─┐              »\n",
              " q_3: ────────────────────────────────────────────────────┤ X ├──────────────»\n",
              "                                                          └───┘              »\n",
              " q_4: ───────────────────────────────────────────────────────────────────────»\n",
              "                                                                             »\n",
              " q_5: ───────────────────────────────────────────────────────────────────────»\n",
              "                                                                             »\n",
              " q_6: ───────────────────────────────────────────────────────────────────────»\n",
              "                                                                             »\n",
              " q_7: ───────────────────────────────────────────────────────────────────────»\n",
              "                                                                             »\n",
              " q_8: ───────────────────────────────────────────────────────────────────────»\n",
              "                                                                             »\n",
              " q_9: ───────────────────────────────────────────────────────────────────────»\n",
              "                                                                             »\n",
              "q_10: ───────────────────────────────────────────────────────────────────────»\n",
              "                                                                             »\n",
              "q_11: ───────────────────────────────────────────────────────────────────────»\n",
              "                                                                             »\n",
              "q_12: ───────────────────────────────────────────────────────────────────────»\n",
              "                                                                             »\n",
              "q_13: ───────────────────────────────────────────────────────────────────────»\n",
              "                                                                             »\n",
              "q_14: ───────────────────────────────────────────────────────────────────────»\n",
              "                                                                             »\n",
              "q_15: ───────────────────────────────────────────────────────────────────────»\n",
              "                                                                             »\n",
              "q_16: ───────────────────────────────────────────────────────────────────────»\n",
              "                                                                             »\n",
              "q_17: ───────────────────────────────────────────────────────────────────────»\n",
              "                                                                             »\n",
              "q_18: ───────────────────────────────────────────────────────────────────────»\n",
              "                                                                             »\n",
              "q_19: ───────────────────────────────────────────────────────────────────────»\n",
              "                                                                             »\n",
              "c: 19/═══════════════════════════════════════════════════════════════════════»\n",
              "                                                                             »\n",
              "«           ┌─┐\n",
              "« q_0: ──■──┤M├\n",
              "«        │  └╥┘\n",
              "« q_1: ──┼───╫─\n",
              "«        │   ║ \n",
              "« q_2: ──┼───╫─\n",
              "«        │   ║ \n",
              "« q_3: ──┼───╫─\n",
              "«      ┌─┴─┐ ║ \n",
              "« q_4: ┤ X ├─╫─\n",
              "«      └───┘ ║ \n",
              "« q_5: ──────╫─\n",
              "«            ║ \n",
              "« q_6: ──────╫─\n",
              "«            ║ \n",
              "« q_7: ──────╫─\n",
              "«            ║ \n",
              "« q_8: ──────╫─\n",
              "«            ║ \n",
              "« q_9: ──────╫─\n",
              "«            ║ \n",
              "«q_10: ──────╫─\n",
              "«            ║ \n",
              "«q_11: ──────╫─\n",
              "«            ║ \n",
              "«q_12: ──────╫─\n",
              "«            ║ \n",
              "«q_13: ──────╫─\n",
              "«            ║ \n",
              "«q_14: ──────╫─\n",
              "«            ║ \n",
              "«q_15: ──────╫─\n",
              "«            ║ \n",
              "«q_16: ──────╫─\n",
              "«            ║ \n",
              "«q_17: ──────╫─\n",
              "«            ║ \n",
              "«q_18: ──────╫─\n",
              "«            ║ \n",
              "«q_19: ──────╫─\n",
              "«            ║ \n",
              "«c: 19/══════╩═\n",
              "«            0 </pre>"
            ]
          },
          "metadata": {},
          "execution_count": 25
        }
      ],
      "source": [
        "time_steps = 5 # Choose the number of times to evolve the single qubit with a unitary gate - 20\n",
        "theta = np.pi/(time_steps-1) # set parameter to determine how much the qubit's state is rotated with each timestep\n",
        "\n",
        "qr = QuantumRegister(20, 'q') # - 20\n",
        "cr = ClassicalRegister(19, 'c') # - 19\n",
        "q_evolve = QuantumCircuit(qr, cr)\n",
        "\n",
        "\n",
        "for time_step in range(1,time_steps):\n",
        "    q_evolve.append(UGate(theta,0,0), [qr[0]]) # Add correct number of single-qubit gates to evolve the qubit's state\n",
        "    if time_step < 5: # - 20\n",
        "        q_evolve.cx(qr[0], qr[time_step])\n",
        "\n",
        "q_evolve.measure(qr[0],cr[0])\n",
        "q_evolve.draw()"
      ]
    },
    {
      "cell_type": "code",
      "source": [
        "job = sim.run(q_evolve, shots=1000)\n",
        "result = job.result()\n",
        "counts = result.get_counts(q_evolve)\n",
        "\n",
        "from qiskit.visualization import plot_histogram\n",
        "plot_histogram(counts)"
      ],
      "metadata": {
        "id": "V9qAEKB1SypE",
        "colab": {
          "base_uri": "https://localhost:8080/",
          "height": 577
        },
        "outputId": "078069ff-2cb3-4156-cf0e-be3fb56c6532"
      },
      "execution_count": null,
      "outputs": [
        {
          "output_type": "execute_result",
          "data": {
            "text/plain": [
              "<Figure size 640x480 with 1 Axes>"
            ],
            "image/png": "[encoded data removed]"
          },
          "metadata": {},
          "execution_count": 24
        }
      ]
    },
    {
      "cell_type": "code",
      "source": [
        "time_steps = 6\n",
        "\n",
        "x_values = range(0,time_steps+1)\n",
        "y_values = list()\n",
        "\n",
        "for i in range(0,time_steps+1):\n",
        "\n",
        "    theta = np.pi/time_steps # set parameter to determine how much the qubit's state is rotated with each timestep\n",
        "\n",
        "    qr = QuantumRegister(1, 'q')\n",
        "    cr = ClassicalRegister(1, 'c')\n",
        "    q_evolve = QuantumCircuit(qr, cr)\n",
        "\n",
        "    q_evolve.x(0)\n",
        "\n",
        "    for time_step in range(i):\n",
        "       q_evolve.append(UGate(theta,0,0), [qr[0]]) # Add correct number of single-qubit gates to evolve the qubit's state\n",
        "       if time_step < 6:\n",
        "          q_evolve.cx(qr[0], qr[time_step])\n",
        "\n",
        "    q_evolve.measure(qr[0],cr[0])\n",
        "\n",
        "    shot_number=10000\n",
        "\n",
        "    job = sim.run(q_evolve, shots=shot_number)\n",
        "    result = job.result()\n",
        "    counts = result.get_counts(q_evolve)\n",
        "    if '1' in counts:\n",
        "        y_values.append(counts['1']/shot_number)\n",
        "    else:\n",
        "        y_values.append(0)\n",
        "\n",
        "plt.plot(x_values, y_values)\n",
        "plt.xlabel('Time-step')\n",
        "plt.ylabel('Probability of measuring 1')\n",
        "plt.title('Evolution of state without Zeno effect')"
      ],
      "metadata": {
        "id": "CiD-DaLKThcd"
      },
      "execution_count": null,
      "outputs": []
    },
    {
      "cell_type": "code",
      "source": [
        "time_steps = 20\n",
        "theta = np.pi/time_steps\n",
        "\n",
        "qr = QuantumRegister(1, 'q')\n",
        "cr = ClassicalRegister(time_steps, 'c')\n",
        "q_zeno = QuantumCircuit(qr, cr)\n",
        "\n",
        "q_zeno.x(0)\n",
        "\n",
        "for time_step in range(time_steps):\n",
        "    q_zeno.append(RXGate(theta), [qr[0]]) # Add correct number of single-qubit gates to evolve the qubit's state\n",
        "    q_zeno.measure(qr[0],cr[time_step])"
      ],
      "metadata": {
        "id": "GM1-bsEmTs1I"
      },
      "execution_count": null,
      "outputs": []
    },
    {
      "cell_type": "code",
      "source": [
        "time_steps = 20\n",
        "\n",
        "x_values_zeno = range(0,time_steps+1)\n",
        "y_values_zeno = list()\n",
        "\n",
        "for i in range(0,time_steps+1):\n",
        "\n",
        "    theta = np.pi/time_steps # set parameter to determine how much the qubit's state is rotated with each timestep\n",
        "\n",
        "    qr = QuantumRegister(1, 'q')\n",
        "    cr = ClassicalRegister(1, 'c')\n",
        "    q_zeno = QuantumCircuit(qr, cr)\n",
        "\n",
        "    q_zeno.x(0)\n",
        "\n",
        "    for time_step in range(i):\n",
        "        q_zeno.measure(qr[0],cr[0])\n",
        "        q_zeno.append(RXGate(theta), [qr[0]]) # Add correct number of single-qubit gates to evolve the qubit's state\n",
        "\n",
        "    q_zeno.measure(qr[0],cr[0])\n",
        "\n",
        "    shot_number=10000\n",
        "\n",
        "    job = sim.run(q_zeno, shots=shot_number)\n",
        "    result = job.result()\n",
        "    counts = result.get_counts(q_zeno)\n",
        "    if '1' in counts:\n",
        "        y_values_zeno.append(counts['1']/shot_number)\n",
        "    else:\n",
        "        y_values_zeno.append(0)\n",
        "\n",
        "plt.plot(x_values_zeno, y_values_zeno, \"g\", label=\"with Zeno\")\n",
        "plt.plot(x_values, y_values,\"b\", label=\"without Zeno\")\n",
        "plt.xlabel('Time-step')\n",
        "plt.ylabel('Probability of measuring 1')\n",
        "plt.legend()\n",
        "plt.title('Evolution of state with and without Zeno effect')"
      ],
      "metadata": {
        "id": "xkqwPy-sT01Z"
      },
      "execution_count": null,
      "outputs": []
    }
  ],
  "metadata": {
    "colab": {
      "provenance": [],
      "include_colab_link": true
    },
    "kernelspec": {
      "display_name": "Python 3",
      "name": "python3"
    },
    "language_info": {
      "name": "python"
    }
  },
  "nbformat": 4,
  "nbformat_minor": 0
}